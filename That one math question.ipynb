{
 "cells": [
  {
   "cell_type": "code",
   "execution_count": 8,
   "metadata": {},
   "outputs": [
    {
     "name": "stdout",
     "output_type": "stream",
     "text": [
      "4 0.6366197723675814\n",
      "6 0.826993343132688\n",
      "8 0.9003163161571061\n",
      "10 0.9354892837886392\n",
      "12 0.9549296585513719\n",
      "14 0.9667663853085523\n",
      "16 0.9744953584044327\n",
      "18 0.9798155360510165\n",
      "20 0.983631643083466\n",
      "22 0.986460839127102\n",
      "24 0.9886159294653691\n",
      "26 0.9902950441978199\n",
      "26\n"
     ]
    }
   ],
   "source": [
    "import math\n",
    "c = 0\n",
    "n = 2\n",
    "while c < 0.99:\n",
    "    n += 2\n",
    "    c = (0.5)*(n/math.pi)*math.sin(2*math.pi/n)\n",
    "    print(n, c)\n",
    "print (n)"
   ]
  },
  {
   "cell_type": "code",
   "execution_count": 12,
   "metadata": {},
   "outputs": [
    {
     "name": "stdout",
     "output_type": "stream",
     "text": [
      "3 0.5513288954217922\n",
      "5 0.8367270523095954\n",
      "7 0.9164026096426022\n",
      "9 0.94935189121406\n",
      "11 0.9660685255149339\n",
      "13 0.9756948292437548\n",
      "15 0.9817388842688584\n",
      "17 0.9857801360706747\n",
      "19 0.9886146932479704\n",
      "21 0.9906791369152652\n",
      "21\n"
     ]
    }
   ],
   "source": [
    "import math\n",
    "c = 0\n",
    "n = 1\n",
    "while c < 0.99:\n",
    "    n += 2\n",
    "    c = (n*math.sin(2*math.pi/n))/(math.pi*(1+math.cos(math.pi/n)))\n",
    "    print(n, c)\n",
    "print (n)"
   ]
  },
  {
   "cell_type": "code",
   "execution_count": null,
   "metadata": {},
   "outputs": [],
   "source": []
  }
 ],
 "metadata": {
  "kernelspec": {
   "display_name": "Python 3",
   "language": "python",
   "name": "python3"
  },
  "language_info": {
   "codemirror_mode": {
    "name": "ipython",
    "version": 3
   },
   "file_extension": ".py",
   "mimetype": "text/x-python",
   "name": "python",
   "nbconvert_exporter": "python",
   "pygments_lexer": "ipython3",
   "version": "3.8.5"
  }
 },
 "nbformat": 4,
 "nbformat_minor": 4
}
